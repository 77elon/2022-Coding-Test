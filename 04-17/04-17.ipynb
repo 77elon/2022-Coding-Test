{
 "cells": [
  {
   "cell_type": "code",
   "execution_count": 1,
   "metadata": {},
   "outputs": [
    {
     "name": "stdout",
     "output_type": "stream",
     "text": [
      "#1 2\n",
      "#2 0\n",
      "0.00200 sec\n"
     ]
    }
   ],
   "source": [
    "import numpy as np\n",
    "import time\n",
    "\n",
    "start = time.time()\n",
    "\n",
    "file = open(\"input.txt\")\n",
    "input = file.readline\n",
    "# input Number of Test Case\n",
    "T = int(input())\n",
    "\n",
    "for i in range(T):\n",
    "    # Number of Coord\n",
    "    N = int(input())\n",
    "    # ary declare\n",
    "    grad = np.empty(0, dtype=np.float16)\n",
    "    # coord input\n",
    "    # like grad, grad vs length what's the best?\n",
    "    for n in range(N):\n",
    "        p1, p2 = map(int, input().split())\n",
    "        gradient = p1 / p2\n",
    "        if p1 > p2:\n",
    "            gradient *= -1.0\n",
    "        grad = np.append(grad, gradient)\n",
    "    result = 0\n",
    "    # Gradient cmp\n",
    "    for c in range(N):\n",
    "        # Gradient indexing\n",
    "        idx = np.where(grad != grad[c])\n",
    "        # For tuple counting\n",
    "        idx = np.array(idx).reshape(-1)\n",
    "        if(result < idx.shape[0]): result = idx.shape[0]\n",
    "        # Found the best results\n",
    "        if(result == N - 1): break;\n",
    "        #print(result, idx.shape[0], len(idx))\n",
    "    print(\"#{} {}\".format(i + 1, result))\n",
    "\n",
    "end = time.time()\n",
    "# Time Complexity: 2N + O(1) or less\n",
    "print(f\"{end - start:.5f} sec\")\n"
   ]
  }
 ],
 "metadata": {
  "interpreter": {
   "hash": "f570fdf1f06e04b06d37a1876759cd3f73729e251d20c80c3fc6737bbd11416c"
  },
  "kernelspec": {
   "display_name": "Python 3.10.0 ('tensorflow_2.x')",
   "language": "python",
   "name": "python3"
  },
  "language_info": {
   "codemirror_mode": {
    "name": "ipython",
    "version": 3
   },
   "file_extension": ".py",
   "mimetype": "text/x-python",
   "name": "python",
   "nbconvert_exporter": "python",
   "pygments_lexer": "ipython3",
   "version": "3.10.0"
  },
  "orig_nbformat": 4
 },
 "nbformat": 4,
 "nbformat_minor": 2
}
