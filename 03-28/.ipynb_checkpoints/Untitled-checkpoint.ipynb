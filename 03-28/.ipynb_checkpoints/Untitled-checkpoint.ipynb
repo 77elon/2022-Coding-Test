{
 "cells": [
  {
   "cell_type": "code",
   "execution_count": 2,
   "id": "258d279f-17ce-4d80-b823-df66ec60176e",
   "metadata": {},
   "outputs": [],
   "source": [
    "import numpy as np"
   ]
  },
  {
   "cell_type": "code",
   "execution_count": 6,
   "id": "9deb0545-3534-4500-9041-4e96d694c9bc",
   "metadata": {},
   "outputs": [],
   "source": [
    "#Test Case T + Cmp Case N"
   ]
  },
  {
   "cell_type": "code",
   "execution_count": 10,
   "id": "b539b855-0317-465a-8aeb-06d17d989645",
   "metadata": {},
   "outputs": [],
   "source": []
  },
  {
   "cell_type": "code",
   "execution_count": 5,
   "id": "c436f1cc-46e6-4ca2-8cc4-cec285b4bd2d",
   "metadata": {},
   "outputs": [
    {
     "name": "stdin",
     "output_type": "stream",
     "text": [
      " S\n"
     ]
    },
    {
     "ename": "ValueError",
     "evalue": "invalid literal for int() with base 10: 'S'",
     "output_type": "error",
     "traceback": [
      "\u001b[0;31m\u001b[0m",
      "\u001b[0;31mValueError\u001b[0mTraceback (most recent call last)",
      "Input \u001b[0;32mIn [5]\u001b[0m, in \u001b[0;36m<cell line: 1>\u001b[0;34m()\u001b[0m\n\u001b[0;32m----> 1\u001b[0m T \u001b[38;5;241m=\u001b[39m \u001b[38;5;28;43mint\u001b[39;49m\u001b[43m(\u001b[49m\u001b[38;5;28;43minput\u001b[39;49m\u001b[43m(\u001b[49m\u001b[43m)\u001b[49m\u001b[43m)\u001b[49m\n",
      "\u001b[0;31mValueError\u001b[0m: invalid literal for int() with base 10: 'S'"
     ]
    }
   ],
   "source": [
    "T = int(input())"
   ]
  },
  {
   "cell_type": "code",
   "execution_count": null,
   "id": "1c60a601-d447-4ae6-9519-1c21e13428e1",
   "metadata": {},
   "outputs": [],
   "source": [
    "for i in range(T):\n",
    "    N = input()\n",
    "    stor = np.empty(0)\n",
    "    result = 0\n",
    "\n",
    "    for n in range(N):\n",
    "        stor.append(input())\n",
    "        \n",
    "        print(\"#{} {}\".i, result)\n",
    "        "
   ]
  }
 ],
 "metadata": {
  "kernelspec": {
   "display_name": "Tensorflow_2.x",
   "language": "python",
   "name": "tensorflow_2.x"
  },
  "language_info": {
   "codemirror_mode": {
    "name": "ipython",
    "version": 3
   },
   "file_extension": ".py",
   "mimetype": "text/x-python",
   "name": "python",
   "nbconvert_exporter": "python",
   "pygments_lexer": "ipython3",
   "version": "3.9.10"
  },
  "widgets": {
   "application/vnd.jupyter.widget-state+json": {
    "state": {},
    "version_major": 2,
    "version_minor": 0
   }
  }
 },
 "nbformat": 4,
 "nbformat_minor": 5
}
