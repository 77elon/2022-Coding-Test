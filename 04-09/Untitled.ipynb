{
 "cells": [
  {
   "cell_type": "code",
   "execution_count": 1,
   "id": "9c02c8dd-ab99-4582-80dd-d0e0a223f1d4",
   "metadata": {},
   "outputs": [],
   "source": [
    "import numpy as np\n",
    "import sys\n",
    "import math\n",
    "import time"
   ]
  },
  {
   "cell_type": "code",
   "execution_count": 2,
   "id": "f1cde33b-bfe4-4fc2-9bea-c786ac880706",
   "metadata": {},
   "outputs": [],
   "source": [
    "start = time.time()\n",
    "\n",
    "file = open(\"input.txt\")\n",
    "input = file.readline"
   ]
  },
  {
   "cell_type": "code",
   "execution_count": 3,
   "id": "0f8f0107-0c26-4135-b201-a2fc0fb80ab5",
   "metadata": {},
   "outputs": [
    {
     "name": "stdout",
     "output_type": "stream",
     "text": [
      "#1 A-\n",
      "#2 C-\n",
      "#3 C0\n",
      "#4 A-\n",
      "#5 C0\n",
      "#6 A-\n",
      "#7 C+\n",
      "#8 C+\n",
      "#9 B0\n",
      "#10 A0\n",
      "0.01940 sec\n"
     ]
    }
   ],
   "source": [
    "# input Number of Test Case\n",
    "T = int(input())\n",
    "\n",
    "result = [\"A+\", \"A0\", \"A-\", \"B+\", \"B0\", \"B-\", \"C+\", \"C0\", \"C-\", \"D0\"]\n",
    "\n",
    "for i in range(T):\n",
    "    # input Number of Student \n",
    "    # Which Student?\n",
    "    N, K = map(int, input().split()) \n",
    "    multiplyer = N / 10\n",
    "    stor = np.empty(0, dtype='float')\n",
    "    for n in range(N):\n",
    "        score = np.empty(0)\n",
    "        score = np.array(input().split(), dtype='float')\n",
    "\n",
    "        # calc midterm, final, submission score\n",
    "        #print(score, type(score))\n",
    "        # length is [0][3] \n",
    "        #print(score.shape)\n",
    "        # Score <- Temp Array\n",
    "        score[0] *= 0.35\n",
    "        score[1] *= 0.45\n",
    "        score[2] *= 0.2\n",
    "        \n",
    "        stor = np.append(stor, np.sum(score))\n",
    "        #print('stor:', stor, stor.shape)\n",
    "    \n",
    "    # Rank Descend for Sorting\n",
    "    rank = np.argsort(stor)[::-1][:N]\n",
    "    \n",
    "    #print(\"rank: \", rank)\n",
    "\n",
    "    #print(i + 1, K - 1, rank)\n",
    "    # Rank[0] is Highest Value index -> Found \n",
    "    loc = np.argwhere(rank == K - 1)\n",
    "    print(\"#{} {}\".format(i + 1, result[int(loc / multiplyer)]))\n",
    "\n",
    "# Time Complexity is nlogn + n    \n",
    "end = time.time()\n",
    "print(f\"{end - start:.5f} sec\")"
   ]
  },
  {
   "cell_type": "code",
   "execution_count": null,
   "id": "bba9e077-c1aa-4977-8e54-f75955df2efa",
   "metadata": {},
   "outputs": [],
   "source": []
  }
 ],
 "metadata": {
  "kernelspec": {
   "display_name": "Python 3 (ipykernel)",
   "language": "python",
   "name": "python3"
  },
  "language_info": {
   "codemirror_mode": {
    "name": "ipython",
    "version": 3
   },
   "file_extension": ".py",
   "mimetype": "text/x-python",
   "name": "python",
   "nbconvert_exporter": "python",
   "pygments_lexer": "ipython3",
   "version": "3.10.5"
  },
  "widgets": {
   "application/vnd.jupyter.widget-state+json": {
    "state": {},
    "version_major": 2,
    "version_minor": 0
   }
  }
 },
 "nbformat": 4,
 "nbformat_minor": 5
}
